{
 "cells": [
  {
   "cell_type": "code",
   "execution_count": 1,
   "id": "0c6886d9-db7e-4325-8ded-ee2143e0fb8c",
   "metadata": {},
   "outputs": [],
   "source": [
    "import pandas as pd\n",
    "import numpy as np\n",
    "import matplotlib.pyplot as plt\n",
    "from sklearn.model_selection import train_test_split\n",
    "from sklearn.feature_extraction.text import TfidfVectorizer\n",
    "from sklearn.naive_bayes import MultinomialNB\n",
    "from sklearn.metrics import accuracy_score,classification_report ,confusion_matrix,ConfusionMatrixDisplay"
   ]
  },
  {
   "cell_type": "markdown",
   "id": "cdb1db40-c4d6-417c-97a9-fe4a5c9d2676",
   "metadata": {},
   "source": [
    "Spam is 1 Not Spam is 2"
   ]
  },
  {
   "cell_type": "code",
   "execution_count": 2,
   "id": "7c21c068-9a03-463d-a9d4-351a21457e46",
   "metadata": {},
   "outputs": [
    {
     "data": {
      "text/plain": [
       "(5728, 2)"
      ]
     },
     "execution_count": 2,
     "metadata": {},
     "output_type": "execute_result"
    }
   ],
   "source": [
    "email_data = pd.read_csv(\"data/emails.csv\")\n",
    "\n",
    "# separating the text and category\n",
    "X = email_data[\"text\"]\n",
    "y = email_data[\"spam\"]\n",
    "\n",
    "# splitting the data into training and test data\n",
    "X_train, X_test, y_train, y_test = train_test_split(X, y, test_size=0.1, random_state=12)\n",
    "\n",
    "# Turning the data into numerical format using TfidfVectorizer\n",
    "vectorizer = TfidfVectorizer(min_df = 1, stop_words=\"english\", lowercase=True)\n",
    "\n",
    "X_train_vec = vectorizer.fit_transform(X_train)\n",
    "X_test_vec = vectorizer.transform(X_test)\n",
    "\n",
    "email_data.shape\n",
    "# Changing the y variable to type int\n",
    "y_train = y_train.astype(\"int\")\n",
    "y_test = y_test.astype(\"int\")\n",
    "email_data.shape\n",
    "\n",
    "\n"
   ]
  },
  {
   "cell_type": "code",
   "execution_count": 3,
   "id": "460b0a88-cb1f-4618-ae24-afb4e84561fa",
   "metadata": {},
   "outputs": [
    {
     "data": {
      "text/html": [
       "<style>#sk-container-id-1 {color: black;}#sk-container-id-1 pre{padding: 0;}#sk-container-id-1 div.sk-toggleable {background-color: white;}#sk-container-id-1 label.sk-toggleable__label {cursor: pointer;display: block;width: 100%;margin-bottom: 0;padding: 0.3em;box-sizing: border-box;text-align: center;}#sk-container-id-1 label.sk-toggleable__label-arrow:before {content: \"▸\";float: left;margin-right: 0.25em;color: #696969;}#sk-container-id-1 label.sk-toggleable__label-arrow:hover:before {color: black;}#sk-container-id-1 div.sk-estimator:hover label.sk-toggleable__label-arrow:before {color: black;}#sk-container-id-1 div.sk-toggleable__content {max-height: 0;max-width: 0;overflow: hidden;text-align: left;background-color: #f0f8ff;}#sk-container-id-1 div.sk-toggleable__content pre {margin: 0.2em;color: black;border-radius: 0.25em;background-color: #f0f8ff;}#sk-container-id-1 input.sk-toggleable__control:checked~div.sk-toggleable__content {max-height: 200px;max-width: 100%;overflow: auto;}#sk-container-id-1 input.sk-toggleable__control:checked~label.sk-toggleable__label-arrow:before {content: \"▾\";}#sk-container-id-1 div.sk-estimator input.sk-toggleable__control:checked~label.sk-toggleable__label {background-color: #d4ebff;}#sk-container-id-1 div.sk-label input.sk-toggleable__control:checked~label.sk-toggleable__label {background-color: #d4ebff;}#sk-container-id-1 input.sk-hidden--visually {border: 0;clip: rect(1px 1px 1px 1px);clip: rect(1px, 1px, 1px, 1px);height: 1px;margin: -1px;overflow: hidden;padding: 0;position: absolute;width: 1px;}#sk-container-id-1 div.sk-estimator {font-family: monospace;background-color: #f0f8ff;border: 1px dotted black;border-radius: 0.25em;box-sizing: border-box;margin-bottom: 0.5em;}#sk-container-id-1 div.sk-estimator:hover {background-color: #d4ebff;}#sk-container-id-1 div.sk-parallel-item::after {content: \"\";width: 100%;border-bottom: 1px solid gray;flex-grow: 1;}#sk-container-id-1 div.sk-label:hover label.sk-toggleable__label {background-color: #d4ebff;}#sk-container-id-1 div.sk-serial::before {content: \"\";position: absolute;border-left: 1px solid gray;box-sizing: border-box;top: 0;bottom: 0;left: 50%;z-index: 0;}#sk-container-id-1 div.sk-serial {display: flex;flex-direction: column;align-items: center;background-color: white;padding-right: 0.2em;padding-left: 0.2em;position: relative;}#sk-container-id-1 div.sk-item {position: relative;z-index: 1;}#sk-container-id-1 div.sk-parallel {display: flex;align-items: stretch;justify-content: center;background-color: white;position: relative;}#sk-container-id-1 div.sk-item::before, #sk-container-id-1 div.sk-parallel-item::before {content: \"\";position: absolute;border-left: 1px solid gray;box-sizing: border-box;top: 0;bottom: 0;left: 50%;z-index: -1;}#sk-container-id-1 div.sk-parallel-item {display: flex;flex-direction: column;z-index: 1;position: relative;background-color: white;}#sk-container-id-1 div.sk-parallel-item:first-child::after {align-self: flex-end;width: 50%;}#sk-container-id-1 div.sk-parallel-item:last-child::after {align-self: flex-start;width: 50%;}#sk-container-id-1 div.sk-parallel-item:only-child::after {width: 0;}#sk-container-id-1 div.sk-dashed-wrapped {border: 1px dashed gray;margin: 0 0.4em 0.5em 0.4em;box-sizing: border-box;padding-bottom: 0.4em;background-color: white;}#sk-container-id-1 div.sk-label label {font-family: monospace;font-weight: bold;display: inline-block;line-height: 1.2em;}#sk-container-id-1 div.sk-label-container {text-align: center;}#sk-container-id-1 div.sk-container {/* jupyter's `normalize.less` sets `[hidden] { display: none; }` but bootstrap.min.css set `[hidden] { display: none !important; }` so we also need the `!important` here to be able to override the default hidden behavior on the sphinx rendered scikit-learn.org. See: https://github.com/scikit-learn/scikit-learn/issues/21755 */display: inline-block !important;position: relative;}#sk-container-id-1 div.sk-text-repr-fallback {display: none;}</style><div id=\"sk-container-id-1\" class=\"sk-top-container\"><div class=\"sk-text-repr-fallback\"><pre>LogisticRegression(max_iter=1000)</pre><b>In a Jupyter environment, please rerun this cell to show the HTML representation or trust the notebook. <br />On GitHub, the HTML representation is unable to render, please try loading this page with nbviewer.org.</b></div><div class=\"sk-container\" hidden><div class=\"sk-item\"><div class=\"sk-estimator sk-toggleable\"><input class=\"sk-toggleable__control sk-hidden--visually\" id=\"sk-estimator-id-1\" type=\"checkbox\" checked><label for=\"sk-estimator-id-1\" class=\"sk-toggleable__label sk-toggleable__label-arrow\">LogisticRegression</label><div class=\"sk-toggleable__content\"><pre>LogisticRegression(max_iter=1000)</pre></div></div></div></div></div>"
      ],
      "text/plain": [
       "LogisticRegression(max_iter=1000)"
      ]
     },
     "execution_count": 3,
     "metadata": {},
     "output_type": "execute_result"
    }
   ],
   "source": [
    "from sklearn.linear_model import LogisticRegression\n",
    "# Create an instance of the Logistic Regression classifier\n",
    "logistic_reg = LogisticRegression(max_iter=1000) \n",
    "\n",
    "# Train the Logistic Regression model\n",
    "logistic_reg.fit(X_train_vec, y_train)"
   ]
  },
  {
   "cell_type": "code",
   "execution_count": 4,
   "id": "33e946af-8833-4913-bdfe-7a97dec0b50a",
   "metadata": {},
   "outputs": [
    {
     "name": "stdout",
     "output_type": "stream",
     "text": [
      "Accuracy: 0.9913\n",
      "              precision    recall  f1-score   support\n",
      "\n",
      "        Spam       1.00      0.99      0.99       429\n",
      "    Not Spam       0.97      0.99      0.98       144\n",
      "\n",
      "    accuracy                           0.99       573\n",
      "   macro avg       0.99      0.99      0.99       573\n",
      "weighted avg       0.99      0.99      0.99       573\n",
      "\n"
     ]
    }
   ],
   "source": [
    "# Predict probabilities for each class\n",
    "predicted_probabilities = logistic_reg.predict_proba(X_test_vec)\n",
    "\n",
    "# Define your custom threshold\n",
    "new_threshold = 0.39\n",
    "\n",
    "# Create adjusted predictions based on the threshold\n",
    "y_pred_adjusted = np.array([1 if prob[1] > new_threshold else 0 for prob in predicted_probabilities])\n",
    "\n",
    "# Calculate accuracy and print the classification report\n",
    "accuracy = accuracy_score(y_test, y_pred_adjusted)\n",
    "print(f\"Accuracy: {accuracy:.4f}\")\n",
    "\n",
    "print(classification_report(y_test, y_pred_adjusted, target_names=['Spam', 'Not Spam']))"
   ]
  },
  {
   "cell_type": "code",
   "execution_count": 5,
   "id": "0b5e393e-76f1-4b2f-b135-bbf421d79d38",
   "metadata": {},
   "outputs": [
    {
     "name": "stdout",
     "output_type": "stream",
     "text": [
      "Accuracy on new data: 0.9430\n",
      "              precision    recall  f1-score   support\n",
      "\n",
      "        Spam       0.97      0.95      0.96      3672\n",
      "    Not Spam       0.89      0.92      0.90      1499\n",
      "\n",
      "    accuracy                           0.94      5171\n",
      "   macro avg       0.93      0.94      0.93      5171\n",
      "weighted avg       0.94      0.94      0.94      5171\n",
      "\n"
     ]
    }
   ],
   "source": [
    "email_data2 = pd.read_csv(\"data/spam_ham_dataset.csv\")\n",
    "X_2 = email_data2[\"text\"]\n",
    "y_2 = email_data2[\"label_num\"]\n",
    "X_test_vec2 = vectorizer.transform(X_2)\n",
    "\n",
    "# Assuming you have already loaded the new data and transformed it into X_test_vec2 as shown in the previous response.\n",
    "\n",
    "# Predict probabilities for each class\n",
    "predicted_probabilities2 = logistic_reg.predict_proba(X_test_vec2)\n",
    "\n",
    "# Define your custom threshold (you can use the same threshold)\n",
    "new_threshold = 0.39\n",
    "\n",
    "# Create adjusted predictions based on the threshold\n",
    "y_pred_adjusted2 = np.array([1 if prob[1] > new_threshold else 0 for prob in predicted_probabilities2])\n",
    "\n",
    "# Calculate accuracy and print the classification report for the new data\n",
    "accuracy2 = accuracy_score(y_2, y_pred_adjusted2)\n",
    "print(f\"Accuracy on new data: {accuracy2:.4f}\")\n",
    "\n",
    "target_names = ['Spam', 'Not Spam']\n",
    "print(classification_report(y_2, y_pred_adjusted2, target_names=target_names))\n",
    "\n"
   ]
  },
  {
   "cell_type": "code",
   "execution_count": 14,
   "id": "9238c68e-6fbe-4812-885d-557a2fd5552e",
   "metadata": {},
   "outputs": [
    {
     "name": "stdout",
     "output_type": "stream",
     "text": [
      "Category: Not Spam Mail\n",
      "Updating the model...\n"
     ]
    }
   ],
   "source": [
    "# Initialize combined_data outside the function\n",
    "combined_data = email_data\n",
    "\n",
    "def test_and_update_logistic_regression(email_headers, correct_label, combined_data):\n",
    "    # Remove this line --> combined_data = email_data2.copy()\n",
    "\n",
    "    for text in email_headers:\n",
    "        test = [text]\n",
    "        test_vec = vectorizer.transform(test)\n",
    "        predicted_probabilities = logistic_reg.predict_proba(test_vec)\n",
    "\n",
    "        # Define your custom threshold\n",
    "        new_threshold = 0.465\n",
    "\n",
    "        # Create adjusted predictions based on the threshold\n",
    "        y_pred_adjusted = np.array([1 if prob[1] > new_threshold else 0 for prob in predicted_probabilities])\n",
    "\n",
    "        if y_pred_adjusted[0] == 1:\n",
    "            print(\"Category: Spam Mail\")\n",
    "        else:\n",
    "            print(\"Category: Not Spam Mail\")\n",
    "\n",
    "        # If the prediction does not match the correct label, update the dataset\n",
    "        if y_pred_adjusted[0] != correct_label:\n",
    "            print(\"Updating the model...\")\n",
    "\n",
    "            # Create a new DataFrame for the corrected label\n",
    "            new_data_point = pd.DataFrame({\"text\": [text], \"label_num\": [correct_label]})\n",
    "\n",
    "            # Concatenate the new data point with the original data\n",
    "            combined_data = pd.concat([combined_data, new_data_point], ignore_index=True)\n",
    "\n",
    "    # Assuming you have already trained the logistic_reg model, you can skip the training part.\n",
    "\n",
    "    return combined_data\n",
    "\n",
    "# Example usage:\n",
    "correct_label = 1  # Set the label (1 for spam or 0 for not spam)\n",
    "non_spam_email_subjects = [\n",
    "    \"❗🤑 9111isaac_𝗬𝗼𝘂 𝗿𝗲𝗰𝗲𝗶𝘃𝗲𝗱 𝗮 𝗱𝗶𝗿𝗲𝗰𝘁 𝗱𝗲𝗽𝗼𝘀𝗶𝘁𝗲𝗱 𝗼𝗳 💲2,500.00.🥳 -----#Mon, 16 Oct 2023 17:16:04 +0200\"\n",
    "]\n",
    "\n",
    "# Call the function to test and update the model\n",
    "combined_data = test_and_update_logistic_regression(non_spam_email_subjects, correct_label, combined_data)\n"
   ]
  },
  {
   "cell_type": "code",
   "execution_count": 15,
   "id": "d86c9a4c-1261-4dde-b811-a41d60a92c65",
   "metadata": {},
   "outputs": [
    {
     "data": {
      "text/plain": [
       "(5729, 3)"
      ]
     },
     "execution_count": 15,
     "metadata": {},
     "output_type": "execute_result"
    }
   ],
   "source": [
    "# Save the combined_data DataFrame to the emails.csv file\n",
    "combined_data.to_csv(\"data/emails.csv\", index=False)\n",
    "test= pd.read_csv(\"data/emails.csv\")\n",
    "test.shape"
   ]
  },
  {
   "cell_type": "code",
   "execution_count": null,
   "id": "36dfd35e-0bb9-4457-9a8d-f645fa902ce0",
   "metadata": {},
   "outputs": [],
   "source": []
  },
  {
   "cell_type": "code",
   "execution_count": null,
   "id": "7489ddd4-56d3-4a3b-848b-08d1ba5fc0ce",
   "metadata": {},
   "outputs": [],
   "source": []
  },
  {
   "cell_type": "code",
   "execution_count": null,
   "id": "c024cc48-d81f-47bb-8b8c-7ac9cc263d3f",
   "metadata": {},
   "outputs": [],
   "source": []
  }
 ],
 "metadata": {
  "kernelspec": {
   "display_name": "Python 3 (ipykernel)",
   "language": "python",
   "name": "python3"
  },
  "language_info": {
   "codemirror_mode": {
    "name": "ipython",
    "version": 3
   },
   "file_extension": ".py",
   "mimetype": "text/x-python",
   "name": "python",
   "nbconvert_exporter": "python",
   "pygments_lexer": "ipython3",
   "version": "3.12.0"
  }
 },
 "nbformat": 4,
 "nbformat_minor": 5
}
