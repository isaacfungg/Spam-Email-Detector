{
 "cells": [
  {
   "cell_type": "code",
   "execution_count": 1,
   "id": "a3e4e505-faab-42ac-a5b6-d64f39f08c43",
   "metadata": {},
   "outputs": [],
   "source": [
    "import pandas as pd\n",
    "import numpy as np\n",
    "import matplotlib.pyplot as plt\n",
    "from sklearn.model_selection import train_test_split\n",
    "from sklearn.feature_extraction.text import TfidfVectorizer\n",
    "from sklearn.metrics import accuracy_score,classification_report ,confusion_matrix,ConfusionMatrixDisplay"
   ]
  },
  {
   "cell_type": "markdown",
   "id": "54944ba0-778e-4eae-8e8b-08b9a1bd0468",
   "metadata": {},
   "source": [
    "Spam is 1 Not Spam is 2"
   ]
  },
  {
   "cell_type": "code",
   "execution_count": 2,
   "id": "869e8c85-d2bd-440b-bdb5-4c0efeb2e834",
   "metadata": {},
   "outputs": [
    {
     "data": {
      "text/plain": [
       "(5728, 2)"
      ]
     },
     "execution_count": 2,
     "metadata": {},
     "output_type": "execute_result"
    }
   ],
   "source": [
    "email_data = pd.read_csv(\"data/emails.csv\")\n",
    "\n",
    "# separating the text and category\n",
    "X = email_data[\"text\"]\n",
    "y = email_data[\"spam\"]\n",
    "\n",
    "# splitting the data into training and test data\n",
    "X_train, X_test, y_train, y_test = train_test_split(X, y, test_size=0.1, random_state=2)\n",
    "\n",
    "# Turning the data into numerical format using TfidfVectorizer\n",
    "vectorizer = TfidfVectorizer(min_df = 1, stop_words=\"english\", lowercase=True)\n",
    "\n",
    "X_train_vec = vectorizer.fit_transform(X_train)\n",
    "X_test_vec = vectorizer.transform(X_test)\n",
    "\n",
    "# Changing the y variable to type int\n",
    "y_train = y_train.astype(\"int\")\n",
    "y_test = y_test.astype(\"int\")\n",
    "email_data.shape"
   ]
  },
  {
   "cell_type": "code",
   "execution_count": 3,
   "id": "d4569cde-2394-416f-a735-de8404414cc6",
   "metadata": {},
   "outputs": [
    {
     "name": "stdout",
     "output_type": "stream",
     "text": [
      "Accuracy (Adjusted): 0.9965\n",
      "              precision    recall  f1-score   support\n",
      "\n",
      "        Spam       1.00      1.00      1.00       429\n",
      "    Not Spam       0.99      1.00      0.99       144\n",
      "\n",
      "    accuracy                           1.00       573\n",
      "   macro avg       0.99      1.00      1.00       573\n",
      "weighted avg       1.00      1.00      1.00       573\n",
      "\n"
     ]
    }
   ],
   "source": [
    "from sklearn.svm import SVC\n",
    "\n",
    "# Train the SVC model\n",
    "svc = SVC(kernel='sigmoid', probability=True)  # Enable probability estimates\n",
    "svc.fit(X_train_vec, y_train)\n",
    "\n",
    "# Predict probabilities for each class\n",
    "predicted_probabilities = svc.predict_proba(X_test_vec)\n",
    "\n",
    "# Define your custom threshold\n",
    "new_threshold = 0.525  \n",
    "\n",
    "# Create adjusted predictions based on the threshold\n",
    "y_pred_adjusted = np.array([1 if prob[1] > new_threshold else 0 for prob in predicted_probabilities])\n",
    "\n",
    "# Calculate accuracy and print the classification report\n",
    "accuracy = accuracy_score(y_test, y_pred_adjusted)\n",
    "print(f\"Accuracy (Adjusted): {accuracy:.4f}\")\n",
    "\n",
    "target_names = ['Spam', 'Not Spam']\n",
    "print(classification_report(y_test, y_pred_adjusted, target_names=target_names))\n"
   ]
  },
  {
   "cell_type": "markdown",
   "id": "88a50607-84d2-4608-893d-3e06fc166754",
   "metadata": {},
   "source": [
    "Takes a List of strings as input and categories them"
   ]
  },
  {
   "cell_type": "code",
   "execution_count": 14,
   "id": "036fbbf2-b2b6-47c8-b5e8-92aaf1d41171",
   "metadata": {},
   "outputs": [
    {
     "name": "stdout",
     "output_type": "stream",
     "text": [
      "Category: Not Spam Mail\n",
      "Retraining the model...\n"
     ]
    },
    {
     "data": {
      "text/html": [
       "<div>\n",
       "<style scoped>\n",
       "    .dataframe tbody tr th:only-of-type {\n",
       "        vertical-align: middle;\n",
       "    }\n",
       "\n",
       "    .dataframe tbody tr th {\n",
       "        vertical-align: top;\n",
       "    }\n",
       "\n",
       "    .dataframe thead th {\n",
       "        text-align: right;\n",
       "    }\n",
       "</style>\n",
       "<table border=\"1\" class=\"dataframe\">\n",
       "  <thead>\n",
       "    <tr style=\"text-align: right;\">\n",
       "      <th></th>\n",
       "      <th>text</th>\n",
       "      <th>spam</th>\n",
       "    </tr>\n",
       "  </thead>\n",
       "  <tbody>\n",
       "    <tr>\n",
       "      <th>0</th>\n",
       "      <td>Subject: naturally irresistible your corporate...</td>\n",
       "      <td>1</td>\n",
       "    </tr>\n",
       "    <tr>\n",
       "      <th>1</th>\n",
       "      <td>Subject: the stock trading gunslinger  fanny i...</td>\n",
       "      <td>1</td>\n",
       "    </tr>\n",
       "    <tr>\n",
       "      <th>2</th>\n",
       "      <td>Subject: unbelievable new homes made easy  im ...</td>\n",
       "      <td>1</td>\n",
       "    </tr>\n",
       "    <tr>\n",
       "      <th>3</th>\n",
       "      <td>Subject: 4 color printing special  request add...</td>\n",
       "      <td>1</td>\n",
       "    </tr>\n",
       "    <tr>\n",
       "      <th>4</th>\n",
       "      <td>Subject: do not have money , get software cds ...</td>\n",
       "      <td>1</td>\n",
       "    </tr>\n",
       "    <tr>\n",
       "      <th>...</th>\n",
       "      <td>...</td>\n",
       "      <td>...</td>\n",
       "    </tr>\n",
       "    <tr>\n",
       "      <th>5724</th>\n",
       "      <td>Subject: re : receipts from visit  jim ,  than...</td>\n",
       "      <td>0</td>\n",
       "    </tr>\n",
       "    <tr>\n",
       "      <th>5725</th>\n",
       "      <td>Subject: re : enron case study update  wow ! a...</td>\n",
       "      <td>0</td>\n",
       "    </tr>\n",
       "    <tr>\n",
       "      <th>5726</th>\n",
       "      <td>Subject: re : interest  david ,  please , call...</td>\n",
       "      <td>0</td>\n",
       "    </tr>\n",
       "    <tr>\n",
       "      <th>5727</th>\n",
       "      <td>Subject: news : aurora 5 . 2 update  aurora ve...</td>\n",
       "      <td>0</td>\n",
       "    </tr>\n",
       "    <tr>\n",
       "      <th>5728</th>\n",
       "      <td>❗🤑 9111isaac_𝗬𝗼𝘂 𝗿𝗲𝗰𝗲𝗶𝘃𝗲𝗱 𝗮 𝗱𝗶𝗿𝗲𝗰𝘁 𝗱𝗲𝗽𝗼𝘀𝗶𝘁𝗲𝗱 𝗼...</td>\n",
       "      <td>1</td>\n",
       "    </tr>\n",
       "  </tbody>\n",
       "</table>\n",
       "<p>5729 rows × 2 columns</p>\n",
       "</div>"
      ],
      "text/plain": [
       "                                                   text  spam\n",
       "0     Subject: naturally irresistible your corporate...     1\n",
       "1     Subject: the stock trading gunslinger  fanny i...     1\n",
       "2     Subject: unbelievable new homes made easy  im ...     1\n",
       "3     Subject: 4 color printing special  request add...     1\n",
       "4     Subject: do not have money , get software cds ...     1\n",
       "...                                                 ...   ...\n",
       "5724  Subject: re : receipts from visit  jim ,  than...     0\n",
       "5725  Subject: re : enron case study update  wow ! a...     0\n",
       "5726  Subject: re : interest  david ,  please , call...     0\n",
       "5727  Subject: news : aurora 5 . 2 update  aurora ve...     0\n",
       "5728  ❗🤑 9111isaac_𝗬𝗼𝘂 𝗿𝗲𝗰𝗲𝗶𝘃𝗲𝗱 𝗮 𝗱𝗶𝗿𝗲𝗰𝘁 𝗱𝗲𝗽𝗼𝘀𝗶𝘁𝗲𝗱 𝗼...     1\n",
       "\n",
       "[5729 rows x 2 columns]"
      ]
     },
     "execution_count": 14,
     "metadata": {},
     "output_type": "execute_result"
    }
   ],
   "source": [
    "import pandas as pd\n",
    "combined_data = email_data\n",
    "def test_and_update(email_headers, correct_label):\n",
    "    combined_data = email_data  # Initialize the combined_data DataFrame\n",
    "\n",
    "    for text in email_headers:\n",
    "        test = [text]\n",
    "        test_vec = vectorizer.transform(test)\n",
    "        prediction = svc.predict(test_vec)\n",
    "\n",
    "        if prediction[0] == 1:\n",
    "            print(\"Category: Spam Mail\")\n",
    "        else:\n",
    "            print(\"Category: Not Spam Mail\")\n",
    "\n",
    "        # If the prediction does not match the correct label, update the dataset and retrain the model\n",
    "        if prediction[0] != correct_label:\n",
    "            print(\"Retraining the model...\")\n",
    "\n",
    "            # Create a new DataFrame for the corrected label\n",
    "            new_data_point = pd.DataFrame({\"text\": [text], \"spam\": [correct_label]})\n",
    "\n",
    "            # Concatenate the new data point with the original data\n",
    "            combined_data = pd.concat([combined_data, new_data_point], ignore_index=True)\n",
    "\n",
    "            # Update the model with the combined dataset\n",
    "            X_train_vec = vectorizer.transform(combined_data[\"text\"])\n",
    "            y_train = combined_data[\"spam\"]\n",
    "            svc.fit(X_train_vec, y_train)\n",
    "\n",
    "    return combined_data\n",
    "\n",
    "# Example usage:\n",
    "correct_label = 1  # Set the label (1 for spam or 0 for not spam)\n",
    "non_spam_email_subjects = [\n",
    "    \"❗🤑 9111isaac_𝗬𝗼𝘂 𝗿𝗲𝗰𝗲𝗶𝘃𝗲𝗱 𝗮 𝗱𝗶𝗿𝗲𝗰𝘁 𝗱𝗲𝗽𝗼𝘀𝗶𝘁𝗲𝗱 𝗼𝗳 💲2,500.00.🥳 -----#Mon, 16 Oct 2023 17:16:04 +0200\"\n",
    "]\n",
    "\n",
    "# Call the function to test and update the model\n",
    "test_and_update(non_spam_email_subjects, correct_label)\n"
   ]
  },
  {
   "cell_type": "markdown",
   "id": "63e0642f-b7d2-4775-9129-18deca6f248f",
   "metadata": {},
   "source": [
    "Second data set to test the accuracy of the previously trained data"
   ]
  },
  {
   "cell_type": "code",
   "execution_count": 5,
   "id": "9dd6d135-e087-4b82-890a-320688c23778",
   "metadata": {},
   "outputs": [
    {
     "name": "stdout",
     "output_type": "stream",
     "text": [
      "Accuracy on new data: 0.9453\n",
      "              precision    recall  f1-score   support\n",
      "\n",
      "        Spam       0.97      0.96      0.96      3672\n",
      "    Not Spam       0.90      0.92      0.91      1499\n",
      "\n",
      "    accuracy                           0.95      5171\n",
      "   macro avg       0.93      0.94      0.93      5171\n",
      "weighted avg       0.95      0.95      0.95      5171\n",
      "\n"
     ]
    }
   ],
   "source": [
    "# Load the new data and extract text\n",
    "email_data2 = pd.read_csv(\"data/spam_ham_dataset.csv\")\n",
    "X_2 = email_data2[\"text\"]\n",
    "y_2 = email_data2[\"label_num\"]\n",
    "\n",
    "# Apply the same vectorizer used for the original data\n",
    "X_test_vec2 = vectorizer.transform(X_2)\n",
    "\n",
    "# Ensure that y_2 is in the appropriate data type (e.g., integer)\n",
    "y_2 = y_2.astype(int)\n",
    "\n",
    "# Predict probabilities for each class\n",
    "predicted_probabilities2 = svc.predict_proba(X_test_vec2)\n",
    "\n",
    "# Define your custom threshold (you can use the same threshold)\n",
    "new_threshold = 0.525\n",
    "\n",
    "# Create adjusted predictions based on the threshold\n",
    "y_pred_adjusted2 = np.array([1 if prob[1] > new_threshold else 0 for prob in predicted_probabilities2])\n",
    "\n",
    "# Calculate accuracy and print the classification report for the new data\n",
    "accuracy2 = accuracy_score(y_2, y_pred_adjusted2)\n",
    "print(f\"Accuracy on new data: {accuracy2:.4f}\")\n",
    "\n",
    "target_names = ['Spam', 'Not Spam']\n",
    "print(classification_report(y_2, y_pred_adjusted2, target_names=target_names))\n"
   ]
  },
  {
   "cell_type": "code",
   "execution_count": 12,
   "id": "5bf531b8-0ba5-43ec-be25-98c9407d610d",
   "metadata": {},
   "outputs": [
    {
     "data": {
      "text/plain": [
       "(5728, 2)"
      ]
     },
     "execution_count": 12,
     "metadata": {},
     "output_type": "execute_result"
    }
   ],
   "source": [
    "# Save the combined_data DataFrame to the emails.csv file\n",
    "combined_data.to_csv(\"data/emails.csv\", index=False)\n",
    "test= pd.read_csv(\"data/emails.csv\")\n",
    "test.shape"
   ]
  },
  {
   "cell_type": "code",
   "execution_count": null,
   "id": "d69b0485-6f63-4a9e-a2d2-330bf7086040",
   "metadata": {},
   "outputs": [],
   "source": []
  }
 ],
 "metadata": {
  "kernelspec": {
   "display_name": "Python 3 (ipykernel)",
   "language": "python",
   "name": "python3"
  },
  "language_info": {
   "codemirror_mode": {
    "name": "ipython",
    "version": 3
   },
   "file_extension": ".py",
   "mimetype": "text/x-python",
   "name": "python",
   "nbconvert_exporter": "python",
   "pygments_lexer": "ipython3",
   "version": "3.12.0"
  }
 },
 "nbformat": 4,
 "nbformat_minor": 5
}
